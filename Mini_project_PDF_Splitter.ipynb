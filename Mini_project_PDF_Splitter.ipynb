{
  "nbformat": 4,
  "nbformat_minor": 0,
  "metadata": {
    "colab": {
      "provenance": [],
      "include_colab_link": true
    },
    "kernelspec": {
      "name": "python3",
      "display_name": "Python 3"
    },
    "language_info": {
      "name": "python"
    }
  },
  "cells": [
    {
      "cell_type": "markdown",
      "metadata": {
        "id": "view-in-github",
        "colab_type": "text"
      },
      "source": [
        "<a href=\"https://colab.research.google.com/github/Sxhail/Mini-project-PDF-Splitter/blob/main/Mini_project_PDF_Splitter.ipynb\" target=\"_parent\"><img src=\"https://colab.research.google.com/assets/colab-badge.svg\" alt=\"Open In Colab\"/></a>"
      ]
    },
    {
      "cell_type": "code",
      "execution_count": null,
      "metadata": {
        "colab": {
          "base_uri": "https://localhost:8080/"
        },
        "id": "gtpWXzgUTf87",
        "outputId": "5c2b701d-c89d-4fe2-eb0d-bf8cad91701e"
      },
      "outputs": [
        {
          "output_type": "stream",
          "name": "stdout",
          "text": [
            "Collecting PyPDF2\n",
            "  Downloading pypdf2-3.0.1-py3-none-any.whl (232 kB)\n",
            "\u001b[2K     \u001b[90m━━━━━━━━━━━━━━━━━━━━━━━━━━━━━━━━━━━━━━━━\u001b[0m \u001b[32m232.6/232.6 kB\u001b[0m \u001b[31m4.2 MB/s\u001b[0m eta \u001b[36m0:00:00\u001b[0m\n",
            "\u001b[?25hInstalling collected packages: PyPDF2\n",
            "Successfully installed PyPDF2-3.0.1\n"
          ]
        }
      ],
      "source": [
        "!pip install PyPDF2"
      ]
    },
    {
      "cell_type": "code",
      "source": [
        "import os\n",
        "from PyPDF2 import PdfReader, PdfWriter\n",
        "\n",
        "def split_pdf(input_pdf, output_dir):\n",
        "    if not os.path.exists(output_dir):\n",
        "        os.makedirs(output_dir)\n",
        "\n",
        "    pdf = PdfReader(open(input_pdf, \"rb\"))\n",
        "    total_pages = len(pdf.pages)\n",
        "\n",
        "    for page_num in range(total_pages):\n",
        "        writer = PdfWriter()\n",
        "        writer.add_page(pdf.pages[page_num])\n",
        "\n",
        "        output_filename = os.path.join(output_dir, f'page_{page_num + 1}.pdf')\n",
        "        with open(output_filename, 'wb') as output_pdf:\n",
        "            writer.write(output_pdf)\n",
        "\n",
        "        print(f'Created: {output_filename}')\n",
        "\n",
        "if __name__ == \"__main__\":\n",
        "    input_pdf = '/content/Research.pdf'  # Replace with the path to your input PDF file\n",
        "    output_dir = '/content/output'  # Replace with the directory where you want to save the output PDFs\n",
        "    split_pdf(input_pdf, output_dir)\n"
      ],
      "metadata": {
        "colab": {
          "base_uri": "https://localhost:8080/"
        },
        "id": "GBkQijI1Tjum",
        "outputId": "090fd022-3bdc-4e3c-e296-513ffd42a956"
      },
      "execution_count": 12,
      "outputs": [
        {
          "output_type": "stream",
          "name": "stdout",
          "text": [
            "Created: /content/output/page_1.pdf\n",
            "Created: /content/output/page_2.pdf\n",
            "Created: /content/output/page_3.pdf\n",
            "Created: /content/output/page_4.pdf\n",
            "Created: /content/output/page_5.pdf\n",
            "Created: /content/output/page_6.pdf\n",
            "Created: /content/output/page_7.pdf\n",
            "Created: /content/output/page_8.pdf\n"
          ]
        }
      ]
    },
    {
      "cell_type": "markdown",
      "source": [
        "H.W: Split every single page of the pdf and save into new pdf."
      ],
      "metadata": {
        "id": "45nZ9C-6WFNq"
      }
    }
  ]
}